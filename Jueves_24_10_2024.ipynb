{
  "nbformat": 4,
  "nbformat_minor": 0,
  "metadata": {
    "colab": {
      "provenance": [],
      "authorship_tag": "ABX9TyPeGb3VMfBZfvmi5/zLym+V",
      "include_colab_link": true
    },
    "kernelspec": {
      "name": "python3",
      "display_name": "Python 3"
    },
    "language_info": {
      "name": "python"
    }
  },
  "cells": [
    {
      "cell_type": "markdown",
      "metadata": {
        "id": "view-in-github",
        "colab_type": "text"
      },
      "source": [
        "<a href=\"https://colab.research.google.com/github/silvanaDaza/INTELIGENCIA-ARTIFICIAL---ULEAM/blob/main/Jueves_24_10_2024.ipynb\" target=\"_parent\"><img src=\"https://colab.research.google.com/assets/colab-badge.svg\" alt=\"Open In Colab\"/></a>"
      ]
    },
    {
      "cell_type": "code",
      "execution_count": null,
      "metadata": {
        "colab": {
          "base_uri": "https://localhost:8080/"
        },
        "id": "ZWtiU-HSovSp",
        "outputId": "d55fab14-ee75-4abd-a51b-297a766ad246"
      },
      "outputs": [
        {
          "output_type": "stream",
          "name": "stdout",
          "text": [
            "3.10.12 (main, Sep 11 2024, 15:47:36) [GCC 11.4.0]\n"
          ]
        }
      ],
      "source": [
        "import sys\n",
        "print(sys.version)"
      ]
    },
    {
      "cell_type": "code",
      "source": [
        "numero=5\n",
        "tmp1=\"Silvana\"\n",
        "print(numero)\n",
        "print(f\"mi nombre es: {tmp1}\")\n",
        "print(numero+5)\n",
        "print(numero-3)\n",
        "print(numero*3)\n",
        "print(numero/3)\n",
        "print(numero%3)\n",
        "print(numero**3)\n",
        "numero*=2\n",
        "print(numero)\n",
        "print(type(numero))"
      ],
      "metadata": {
        "colab": {
          "base_uri": "https://localhost:8080/"
        },
        "id": "2VYRgrt7sd6N",
        "outputId": "0b9e554e-b341-484f-f2b0-09c0b122898c"
      },
      "execution_count": null,
      "outputs": [
        {
          "output_type": "stream",
          "name": "stdout",
          "text": [
            "5\n",
            "mi nombre es: Silvana\n",
            "10\n",
            "2\n",
            "15\n",
            "1.6666666666666667\n",
            "2\n",
            "125\n",
            "10\n",
            "<class 'int'>\n"
          ]
        }
      ]
    },
    {
      "cell_type": "code",
      "source": [
        "t=True\n",
        "f=False\n",
        "print(type(t))\n",
        "print(t and f)\n",
        "print(t or f)\n",
        "print(not t)\n",
        "#print(t!=f)"
      ],
      "metadata": {
        "colab": {
          "base_uri": "https://localhost:8080/"
        },
        "id": "z_AzAZ5xvnt3",
        "outputId": "75cac3f5-3d37-4f7b-caf5-b9536cc42e5c"
      },
      "execution_count": null,
      "outputs": [
        {
          "output_type": "stream",
          "name": "stdout",
          "text": [
            "<class 'bool'>\n",
            "False\n",
            "True\n",
            "False\n"
          ]
        }
      ]
    },
    {
      "cell_type": "code",
      "source": [
        "aux1='hello'\n",
        "aux2='world'\n",
        "print(aux1+aux2)\n",
        "print(aux1*4)\n",
        "print(aux1.capitalize())\n",
        "print(aux1.upper())\n",
        "aux3='SILVANA'\n",
        "print(aux3.lower())\n"
      ],
      "metadata": {
        "colab": {
          "base_uri": "https://localhost:8080/"
        },
        "id": "cCIa8my6we-p",
        "outputId": "e5df8d05-3ac9-4990-e8a6-05b8c1d5286c"
      },
      "execution_count": null,
      "outputs": [
        {
          "output_type": "stream",
          "name": "stdout",
          "text": [
            "helloworld\n",
            "hellohellohellohello\n",
            "Hello\n",
            "HELLO\n",
            "silvana\n"
          ]
        }
      ]
    },
    {
      "cell_type": "code",
      "source": [
        "aux2=list()\n",
        "aux2.append(4)\n",
        "aux2.append(\"silvana\")\n",
        "aux2.append(True)\n",
        "print(aux2)\n",
        "print(aux2[1])\n",
        "print(aux2[-1])\n",
        "#print(aux2[-2])\n",
        "print('**************')\n",
        "aux2[1]='laura'\n",
        "print(aux2)\n",
        "aux3=[1,2,3,'laura',True,False]\n",
        "print(aux3)\n",
        "aux3.pop()\n",
        "print(aux3)"
      ],
      "metadata": {
        "colab": {
          "base_uri": "https://localhost:8080/"
        },
        "id": "UAfoubWJyNZN",
        "outputId": "183818db-0c83-4049-8386-c5a83fa84e53"
      },
      "execution_count": null,
      "outputs": [
        {
          "output_type": "stream",
          "name": "stdout",
          "text": [
            "[4, 'silvana', True]\n",
            "silvana\n",
            "True\n",
            "**************\n",
            "[4, 'laura', True]\n",
            "[1, 2, 3, 'laura', True, False]\n",
            "[1, 2, 3, 'laura', True]\n"
          ]
        }
      ]
    },
    {
      "cell_type": "code",
      "source": [
        "temp1=list(range(100))\n",
        "for x in temp1:\n",
        "    print(f\"El valor es: {x}\")"
      ],
      "metadata": {
        "colab": {
          "base_uri": "https://localhost:8080/"
        },
        "id": "tb91piRx0YNE",
        "outputId": "0f64286a-e797-47ce-a442-2550e7839e4b"
      },
      "execution_count": null,
      "outputs": [
        {
          "output_type": "stream",
          "name": "stdout",
          "text": [
            "El valor es: 0\n",
            "El valor es: 1\n",
            "El valor es: 2\n",
            "El valor es: 3\n",
            "El valor es: 4\n",
            "El valor es: 5\n",
            "El valor es: 6\n",
            "El valor es: 7\n",
            "El valor es: 8\n",
            "El valor es: 9\n",
            "El valor es: 10\n",
            "El valor es: 11\n",
            "El valor es: 12\n",
            "El valor es: 13\n",
            "El valor es: 14\n",
            "El valor es: 15\n",
            "El valor es: 16\n",
            "El valor es: 17\n",
            "El valor es: 18\n",
            "El valor es: 19\n",
            "El valor es: 20\n",
            "El valor es: 21\n",
            "El valor es: 22\n",
            "El valor es: 23\n",
            "El valor es: 24\n",
            "El valor es: 25\n",
            "El valor es: 26\n",
            "El valor es: 27\n",
            "El valor es: 28\n",
            "El valor es: 29\n",
            "El valor es: 30\n",
            "El valor es: 31\n",
            "El valor es: 32\n",
            "El valor es: 33\n",
            "El valor es: 34\n",
            "El valor es: 35\n",
            "El valor es: 36\n",
            "El valor es: 37\n",
            "El valor es: 38\n",
            "El valor es: 39\n",
            "El valor es: 40\n",
            "El valor es: 41\n",
            "El valor es: 42\n",
            "El valor es: 43\n",
            "El valor es: 44\n",
            "El valor es: 45\n",
            "El valor es: 46\n",
            "El valor es: 47\n",
            "El valor es: 48\n",
            "El valor es: 49\n",
            "El valor es: 50\n",
            "El valor es: 51\n",
            "El valor es: 52\n",
            "El valor es: 53\n",
            "El valor es: 54\n",
            "El valor es: 55\n",
            "El valor es: 56\n",
            "El valor es: 57\n",
            "El valor es: 58\n",
            "El valor es: 59\n",
            "El valor es: 60\n",
            "El valor es: 61\n",
            "El valor es: 62\n",
            "El valor es: 63\n",
            "El valor es: 64\n",
            "El valor es: 65\n",
            "El valor es: 66\n",
            "El valor es: 67\n",
            "El valor es: 68\n",
            "El valor es: 69\n",
            "El valor es: 70\n",
            "El valor es: 71\n",
            "El valor es: 72\n",
            "El valor es: 73\n",
            "El valor es: 74\n",
            "El valor es: 75\n",
            "El valor es: 76\n",
            "El valor es: 77\n",
            "El valor es: 78\n",
            "El valor es: 79\n",
            "El valor es: 80\n",
            "El valor es: 81\n",
            "El valor es: 82\n",
            "El valor es: 83\n",
            "El valor es: 84\n",
            "El valor es: 85\n",
            "El valor es: 86\n",
            "El valor es: 87\n",
            "El valor es: 88\n",
            "El valor es: 89\n",
            "El valor es: 90\n",
            "El valor es: 91\n",
            "El valor es: 92\n",
            "El valor es: 93\n",
            "El valor es: 94\n",
            "El valor es: 95\n",
            "El valor es: 96\n",
            "El valor es: 97\n",
            "El valor es: 98\n",
            "El valor es: 99\n"
          ]
        }
      ]
    },
    {
      "cell_type": "code",
      "source": [
        "listaAnimales=list()\n",
        "listaAnimales.append('monkey')\n",
        "listaAnimales.append('donkey')\n",
        "listaAnimales.append('mouse')\n",
        "listaAnimales.append('cocodrile')\n",
        "listaAnimales.append('rommel')\n",
        "print(listaAnimales)\n",
        "tmp1=listaAnimales[:3]\n",
        "print(\"Animales %s \"%(tmp1))\n",
        "\n",
        "temp2=listaAnimales[2:]\n",
        "print(\"Animales %s \"%(temp2))\n",
        "\n",
        "temp3=listaAnimales[2:4]\n",
        "print(\"Animales %s \"%(temp3))\n",
        "\n",
        "listaAnimales[2:4]=['bear','cow']\n",
        "print(listaAnimales)"
      ],
      "metadata": {
        "colab": {
          "base_uri": "https://localhost:8080/"
        },
        "id": "AzVCWiWAxopj",
        "outputId": "ebfaa915-d8c0-4306-9ab1-8f956edeef21"
      },
      "execution_count": null,
      "outputs": [
        {
          "output_type": "stream",
          "name": "stdout",
          "text": [
            "['monkey', 'donkey', 'mouse', 'cocodrile', 'rommel']\n",
            "Animales ['monkey', 'donkey', 'mouse'] \n",
            "Animales ['mouse', 'cocodrile', 'rommel'] \n",
            "Animales ['mouse', 'cocodrile'] \n",
            "['monkey', 'donkey', 'bear', 'cow', 'rommel']\n"
          ]
        }
      ]
    },
    {
      "cell_type": "code",
      "source": [
        "for numero, animal in enumerate(listaAnimales):\n",
        "    print('%d: %s'%(numero+1, animal))"
      ],
      "metadata": {
        "colab": {
          "base_uri": "https://localhost:8080/"
        },
        "id": "IVohwMKCzw9O",
        "outputId": "48e43561-cfe8-4879-cc28-d453d487e569"
      },
      "execution_count": null,
      "outputs": [
        {
          "output_type": "stream",
          "name": "stdout",
          "text": [
            "1: monkey\n",
            "2: donkey\n",
            "3: bear\n",
            "4: cow\n",
            "5: rommel\n"
          ]
        }
      ]
    },
    {
      "cell_type": "code",
      "source": [
        "listaNum=list(range(20))\n",
        "print(listaNum)\n",
        "listaNumcuadrado=list()\n",
        "for numero in listaNum:\n",
        "    listaNumcuadrado.append(numero**2)\n",
        "print(listaNumcuadrado)\n"
      ],
      "metadata": {
        "colab": {
          "base_uri": "https://localhost:8080/"
        },
        "id": "S2G2XRsS0Y5X",
        "outputId": "3b88e255-8016-4137-f882-836ed54247e1"
      },
      "execution_count": null,
      "outputs": [
        {
          "output_type": "stream",
          "name": "stdout",
          "text": [
            "[0, 1, 2, 3, 4, 5, 6, 7, 8, 9, 10, 11, 12, 13, 14, 15, 16, 17, 18, 19]\n",
            "[0, 1, 4, 9, 16, 25, 36, 49, 64, 81, 100, 121, 144, 169, 196, 225, 256, 289, 324, 361]\n"
          ]
        }
      ]
    },
    {
      "cell_type": "code",
      "source": [
        "listaCuadrados=[i**2 for i in listaNum]\n",
        "print(listaCuadrados)"
      ],
      "metadata": {
        "colab": {
          "base_uri": "https://localhost:8080/"
        },
        "id": "yDSxG7532P0q",
        "outputId": "e60eb537-ead9-4839-eb3c-66e0103db0f3"
      },
      "execution_count": null,
      "outputs": [
        {
          "output_type": "stream",
          "name": "stdout",
          "text": [
            "[0, 1, 4, 9, 16, 25, 36, 49, 64, 81, 100, 121, 144, 169, 196, 225, 256, 289, 324, 361]\n"
          ]
        }
      ]
    },
    {
      "cell_type": "code",
      "source": [
        "listaimpares=[i for i in listaNum if i%2==1]\n",
        "print(listaimpares)"
      ],
      "metadata": {
        "colab": {
          "base_uri": "https://localhost:8080/"
        },
        "id": "MHQrT_x-2ePT",
        "outputId": "fed64867-603e-4bec-e8d3-142f9bf69766"
      },
      "execution_count": null,
      "outputs": [
        {
          "output_type": "stream",
          "name": "stdout",
          "text": [
            "[1, 3, 5, 7, 9, 11, 13, 15, 17, 19]\n"
          ]
        }
      ]
    },
    {
      "cell_type": "code",
      "source": [
        "listaPares=[i for i in listaNum if i%2==0]\n",
        "print(listaPares)"
      ],
      "metadata": {
        "colab": {
          "base_uri": "https://localhost:8080/"
        },
        "id": "P8QkcG612vKz",
        "outputId": "5b9be281-00be-4fc0-c455-e1c2a831d014"
      },
      "execution_count": null,
      "outputs": [
        {
          "output_type": "stream",
          "name": "stdout",
          "text": [
            "[0, 2, 4, 6, 8, 10, 12, 14, 16, 18]\n"
          ]
        }
      ]
    },
    {
      "cell_type": "code",
      "source": [
        "myDictionary={'perro':'bonito','gato':'peludo', 'iguana':'verde'}\n",
        "print(myDictionary)"
      ],
      "metadata": {
        "colab": {
          "base_uri": "https://localhost:8080/"
        },
        "id": "NTEMxkI03oUo",
        "outputId": "bfe99e06-028f-4002-d76b-456e066c1f41"
      },
      "execution_count": null,
      "outputs": [
        {
          "output_type": "stream",
          "name": "stdout",
          "text": [
            "{'perro': 'bonito', 'gato': 'peludo', 'iguana': 'verde'}\n"
          ]
        }
      ]
    },
    {
      "cell_type": "code",
      "source": [
        "for key in myDictionary:\n",
        "    print(myDictionary[key])"
      ],
      "metadata": {
        "colab": {
          "base_uri": "https://localhost:8080/"
        },
        "id": "I3P_-uv-4U8V",
        "outputId": "d6702abb-68b8-4c8f-c1ac-eb51b089e48b"
      },
      "execution_count": null,
      "outputs": [
        {
          "output_type": "stream",
          "name": "stdout",
          "text": [
            "bonito\n",
            "peludo\n",
            "verde\n"
          ]
        }
      ]
    },
    {
      "cell_type": "code",
      "source": [
        "dictiCuadrado={'1':1,'2':4,'3':9,'4':16}\n",
        "print(dictiCuadrado)\n",
        "\n",
        "dictCuadrado={i:i**2 for i in listaNum}\n",
        "print(dictCuadrado)"
      ],
      "metadata": {
        "colab": {
          "base_uri": "https://localhost:8080/"
        },
        "id": "j0iOy4iD4lrz",
        "outputId": "edce3a43-cb3f-480e-b71c-e258ffd98c8d"
      },
      "execution_count": null,
      "outputs": [
        {
          "output_type": "stream",
          "name": "stdout",
          "text": [
            "{'1': 1, '2': 4, '3': 9, '4': 16}\n",
            "{0: 0, 1: 1, 2: 4, 3: 9, 4: 16, 5: 25, 6: 36, 7: 49, 8: 64, 9: 81, 10: 100, 11: 121, 12: 144, 13: 169, 14: 196, 15: 225, 16: 256, 17: 289, 18: 324, 19: 361}\n"
          ]
        }
      ]
    },
    {
      "cell_type": "code",
      "source": [
        "setElemento={'perro','gato','iguana'}\n",
        "print(setElemento)"
      ],
      "metadata": {
        "colab": {
          "base_uri": "https://localhost:8080/"
        },
        "id": "zUoOduy56dw1",
        "outputId": "25614ce7-0d22-4201-f5db-b1815b96fa77"
      },
      "execution_count": null,
      "outputs": [
        {
          "output_type": "stream",
          "name": "stdout",
          "text": [
            "{'gato', 'perro', 'iguana'}\n"
          ]
        }
      ]
    },
    {
      "cell_type": "code",
      "source": [
        "print('gallina' in setElemento)\n",
        "setElemento.add('elefante')\n",
        "print(setElemento)\n",
        "#setElemento.remove('iguana')\n",
        "print(setElemento)\n",
        "print(len(setElemento))"
      ],
      "metadata": {
        "colab": {
          "base_uri": "https://localhost:8080/"
        },
        "id": "zkl51CTV67qt",
        "outputId": "9eef5d5b-0f6b-499d-b606-5ecbe16326df"
      },
      "execution_count": null,
      "outputs": [
        {
          "output_type": "stream",
          "name": "stdout",
          "text": [
            "False\n",
            "{'gato', 'perro', 'elefante'}\n",
            "{'gato', 'perro', 'elefante'}\n",
            "3\n"
          ]
        }
      ]
    },
    {
      "cell_type": "markdown",
      "source": [
        "FUNCIONES"
      ],
      "metadata": {
        "id": "TKLAZt_X8v91"
      }
    },
    {
      "cell_type": "code",
      "source": [
        "def suma(a,b):\n",
        "    return a+b\n",
        "\n",
        "tmp1=5\n",
        "tmp2=9\n",
        "print('la suma de los dos valores es igual: ',suma(tmp1,tmp2))"
      ],
      "metadata": {
        "colab": {
          "base_uri": "https://localhost:8080/"
        },
        "id": "ACt_FFg881uB",
        "outputId": "34134305-9123-4988-e16a-0457a2888af5"
      },
      "execution_count": null,
      "outputs": [
        {
          "output_type": "stream",
          "name": "stdout",
          "text": [
            "la suma de los dos valores es igual:  14\n"
          ]
        }
      ]
    },
    {
      "cell_type": "code",
      "source": [
        "listaNumeros=[-1, -4 ,0,1]\n",
        "def evaluacionSigno(tmp):\n",
        "    if tmp>0:\n",
        "        return 'positivo'\n",
        "    elif tmp<0:\n",
        "        return 'negativo'\n",
        "    else:\n",
        "        return 'cero'\n",
        "\n",
        "for cadaNumero in listaNumeros:\n",
        "    print(evaluacionSigno(cadaNumero))"
      ],
      "metadata": {
        "colab": {
          "base_uri": "https://localhost:8080/"
        },
        "id": "6zwHF3lt9Tte",
        "outputId": "db129cb1-ecfe-4d6b-fc62-56d1a6a6debc"
      },
      "execution_count": null,
      "outputs": [
        {
          "output_type": "stream",
          "name": "stdout",
          "text": [
            "negativo\n",
            "negativo\n",
            "cero\n",
            "positivo\n"
          ]
        }
      ]
    },
    {
      "cell_type": "code",
      "source": [
        "class saludos(object):\n",
        "  def __init__(self,nombre):\n",
        "    self.nombre=nombre\n",
        "    #print('se ejecuta automasticamente')\n",
        "  def mensaje(self): # Indentation corrected to include this method within the class\n",
        "    print('hola',self.nombre)\n",
        "\n",
        "name1=saludos('silvana')\n",
        "\n",
        "name1.mensaje()"
      ],
      "metadata": {
        "colab": {
          "base_uri": "https://localhost:8080/"
        },
        "id": "_BR1ThUt_4S1",
        "outputId": "3cf9cb9a-735f-45b9-818f-020c16d6f149"
      },
      "execution_count": null,
      "outputs": [
        {
          "output_type": "stream",
          "name": "stdout",
          "text": [
            "hola silvana\n"
          ]
        }
      ]
    },
    {
      "cell_type": "code",
      "source": [
        "class numero(object):\n",
        "  def __init__(self,numero1, numero2):\n",
        "    self.numero1=numero1\n",
        "    self.numero2=numero2\n",
        "  def suma(self):\n",
        "    return self.numero1+self.numero2\n",
        "\n",
        "problema1=numero(22,44)\n",
        "print(problema1.suma())\n"
      ],
      "metadata": {
        "colab": {
          "base_uri": "https://localhost:8080/"
        },
        "id": "mQE8eDAdCrld",
        "outputId": "ca98c2fe-79b0-4f5c-c3bf-69a44b4ec719"
      },
      "execution_count": null,
      "outputs": [
        {
          "output_type": "stream",
          "name": "stdout",
          "text": [
            "66\n"
          ]
        }
      ]
    }
  ]
}