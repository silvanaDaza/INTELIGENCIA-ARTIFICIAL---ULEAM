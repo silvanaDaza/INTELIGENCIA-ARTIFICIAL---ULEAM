{
  "nbformat": 4,
  "nbformat_minor": 0,
  "metadata": {
    "colab": {
      "provenance": [],
      "authorship_tag": "ABX9TyPUoJr2Je3xNx8MZfX9TmCV",
      "include_colab_link": true
    },
    "kernelspec": {
      "name": "python3",
      "display_name": "Python 3"
    },
    "language_info": {
      "name": "python"
    }
  },
  "cells": [
    {
      "cell_type": "markdown",
      "metadata": {
        "id": "view-in-github",
        "colab_type": "text"
      },
      "source": [
        "<a href=\"https://colab.research.google.com/github/silvanaDaza/INTELIGENCIA-ARTIFICIAL---ULEAM/blob/main/LUNES_29_10_2024.ipynb\" target=\"_parent\"><img src=\"https://colab.research.google.com/assets/colab-badge.svg\" alt=\"Open In Colab\"/></a>"
      ]
    },
    {
      "cell_type": "markdown",
      "source": [
        "NUMPY LIBRARY"
      ],
      "metadata": {
        "id": "chUmmX0qhDwe"
      }
    },
    {
      "cell_type": "code",
      "source": [
        "import numpy as np"
      ],
      "metadata": {
        "id": "iitoGttmhLS5"
      },
      "execution_count": null,
      "outputs": []
    },
    {
      "cell_type": "code",
      "source": [
        "print(np.__version__)"
      ],
      "metadata": {
        "colab": {
          "base_uri": "https://localhost:8080/"
        },
        "id": "1NXarqxehYSL",
        "outputId": "073856e7-452c-4514-de79-3a69def1eb2a"
      },
      "execution_count": null,
      "outputs": [
        {
          "output_type": "stream",
          "name": "stdout",
          "text": [
            "1.26.4\n"
          ]
        }
      ]
    },
    {
      "cell_type": "code",
      "source": [
        "myArray=np.array([1,2,3,4,5])\n",
        "print(myArray)"
      ],
      "metadata": {
        "colab": {
          "base_uri": "https://localhost:8080/"
        },
        "id": "ahaBakLbhuT_",
        "outputId": "9540fe60-7a8f-4d76-bc14-84bfa23bb8ba"
      },
      "execution_count": null,
      "outputs": [
        {
          "output_type": "stream",
          "name": "stdout",
          "text": [
            "[1 2 3 4 5]\n"
          ]
        }
      ]
    },
    {
      "cell_type": "code",
      "source": [
        "print(type(myArray))"
      ],
      "metadata": {
        "colab": {
          "base_uri": "https://localhost:8080/"
        },
        "id": "u6jT7CzLh_QL",
        "outputId": "beb06bd5-6799-474f-ab31-80aad3ccf76d"
      },
      "execution_count": null,
      "outputs": [
        {
          "output_type": "stream",
          "name": "stdout",
          "text": [
            "<class 'numpy.ndarray'>\n"
          ]
        }
      ]
    },
    {
      "cell_type": "code",
      "source": [
        "print(myArray.shape)\n",
        "print(myArray[2])\n",
        "myArray[2]=10\n",
        "print(myArray)"
      ],
      "metadata": {
        "colab": {
          "base_uri": "https://localhost:8080/"
        },
        "id": "TwveCmCNiFol",
        "outputId": "68a04f3d-5f31-4520-91f5-41dab520b2a4"
      },
      "execution_count": null,
      "outputs": [
        {
          "output_type": "stream",
          "name": "stdout",
          "text": [
            "(5,)\n",
            "3\n",
            "[ 1  2 10  4  5]\n"
          ]
        }
      ]
    },
    {
      "cell_type": "code",
      "source": [
        "myArray1=np.array([[1,2,3],[4,5,6]])\n",
        "print(myArray1)\n",
        "print(myArray1.shape)"
      ],
      "metadata": {
        "colab": {
          "base_uri": "https://localhost:8080/"
        },
        "id": "tCTepMguiypI",
        "outputId": "4451b101-05a9-42a3-8c13-6cd454c1870e"
      },
      "execution_count": null,
      "outputs": [
        {
          "output_type": "stream",
          "name": "stdout",
          "text": [
            "[[1 2 3]\n",
            " [4 5 6]]\n",
            "(2, 3)\n"
          ]
        }
      ]
    },
    {
      "cell_type": "code",
      "source": [
        "myArray2=np.zeros((5,5))\n",
        "print(myArray2)"
      ],
      "metadata": {
        "colab": {
          "base_uri": "https://localhost:8080/"
        },
        "id": "igMfgPWKjBx0",
        "outputId": "2c9ef1ca-2299-443a-95b2-97fea5457cf2"
      },
      "execution_count": null,
      "outputs": [
        {
          "output_type": "stream",
          "name": "stdout",
          "text": [
            "[[0. 0. 0. 0. 0.]\n",
            " [0. 0. 0. 0. 0.]\n",
            " [0. 0. 0. 0. 0.]\n",
            " [0. 0. 0. 0. 0.]\n",
            " [0. 0. 0. 0. 0.]]\n"
          ]
        }
      ]
    },
    {
      "cell_type": "code",
      "source": [
        "myArray3=np.full((3,6),10)\n",
        "print(myArray3)\n",
        "myArray4=np.eye(5)\n",
        "print(myArray4)\n",
        "myArray5=np.ones((4,4))\n",
        "print(myArray5)"
      ],
      "metadata": {
        "colab": {
          "base_uri": "https://localhost:8080/"
        },
        "id": "H7W5zPfLjZu3",
        "outputId": "7d33bd8f-6240-4749-cb3c-c5b90f47db81"
      },
      "execution_count": null,
      "outputs": [
        {
          "output_type": "stream",
          "name": "stdout",
          "text": [
            "[[10 10 10 10 10 10]\n",
            " [10 10 10 10 10 10]\n",
            " [10 10 10 10 10 10]]\n",
            "[[1. 0. 0. 0. 0.]\n",
            " [0. 1. 0. 0. 0.]\n",
            " [0. 0. 1. 0. 0.]\n",
            " [0. 0. 0. 1. 0.]\n",
            " [0. 0. 0. 0. 1.]]\n",
            "[[1. 1. 1. 1.]\n",
            " [1. 1. 1. 1.]\n",
            " [1. 1. 1. 1.]\n",
            " [1. 1. 1. 1.]]\n"
          ]
        }
      ]
    },
    {
      "cell_type": "code",
      "source": [
        "myArray6=np.random.random((5,5))\n",
        "print(myArray6)"
      ],
      "metadata": {
        "colab": {
          "base_uri": "https://localhost:8080/"
        },
        "id": "8BxdoG5ij5-z",
        "outputId": "80f4ba1e-0e9e-4aa5-c224-8f5d24f08189"
      },
      "execution_count": null,
      "outputs": [
        {
          "output_type": "stream",
          "name": "stdout",
          "text": [
            "[[0.58765103 0.58345762 0.20540875 0.22181229 0.88475733]\n",
            " [0.73155779 0.33345623 0.77238027 0.82081574 0.43915797]\n",
            " [0.38390072 0.94068751 0.8065656  0.23135949 0.16234933]\n",
            " [0.6722954  0.16507429 0.7330845  0.94346015 0.46124828]\n",
            " [0.24908624 0.34738094 0.61831905 0.46033626 0.63149258]]\n"
          ]
        }
      ]
    },
    {
      "cell_type": "code",
      "source": [
        "myArray7=np.random.randint(100,size=(5,5))\n",
        "print(myArray7)"
      ],
      "metadata": {
        "colab": {
          "base_uri": "https://localhost:8080/"
        },
        "id": "oitJL-jDkFtz",
        "outputId": "b43b16fa-2e36-4f7e-b862-513b5cf0111e"
      },
      "execution_count": null,
      "outputs": [
        {
          "output_type": "stream",
          "name": "stdout",
          "text": [
            "[[78 79 51 96 68]\n",
            " [46 47 72 78 23]\n",
            " [47  9 98 74 31]\n",
            " [ 3 19 75 70 27]\n",
            " [67 51 90 23 37]]\n"
          ]
        }
      ]
    },
    {
      "cell_type": "code",
      "source": [
        "newMatrix=myArray7[:2,:2]\n",
        "print(newMatrix)"
      ],
      "metadata": {
        "colab": {
          "base_uri": "https://localhost:8080/"
        },
        "id": "w07HD-jDk44V",
        "outputId": "8997d872-7a5f-4d8c-c57c-f2a91ca1ed62"
      },
      "execution_count": null,
      "outputs": [
        {
          "output_type": "stream",
          "name": "stdout",
          "text": [
            "[[78 79]\n",
            " [46 47]]\n"
          ]
        }
      ]
    },
    {
      "cell_type": "code",
      "source": [
        "myArray7[2,2]=100\n",
        "print(myArray7)"
      ],
      "metadata": {
        "colab": {
          "base_uri": "https://localhost:8080/"
        },
        "id": "Ax0D256DlOjR",
        "outputId": "96cef0b3-60db-4a27-b9a1-dfdeec93775e"
      },
      "execution_count": null,
      "outputs": [
        {
          "output_type": "stream",
          "name": "stdout",
          "text": [
            "[[ 78  79  51  96  68]\n",
            " [ 46  47  72  78  23]\n",
            " [ 47   9 100  74  31]\n",
            " [  3  19  75  70  27]\n",
            " [ 67  51  90  23  37]]\n"
          ]
        }
      ]
    },
    {
      "cell_type": "code",
      "source": [
        "print(myArray7[2,:])"
      ],
      "metadata": {
        "colab": {
          "base_uri": "https://localhost:8080/"
        },
        "id": "0lWSb4xGl4sR",
        "outputId": "436a8c0c-38a3-4fe3-806e-20812eed9150"
      },
      "execution_count": null,
      "outputs": [
        {
          "output_type": "stream",
          "name": "stdout",
          "text": [
            "[ 47   9 100  74  31]\n"
          ]
        }
      ]
    },
    {
      "cell_type": "code",
      "source": [
        "print(myArray7[:,2])"
      ],
      "metadata": {
        "colab": {
          "base_uri": "https://localhost:8080/"
        },
        "id": "LZUGnQmbmF0k",
        "outputId": "0ae9c500-a7aa-4fb8-a7fd-d5c721cbbf7b"
      },
      "execution_count": null,
      "outputs": [
        {
          "output_type": "stream",
          "name": "stdout",
          "text": [
            "[ 51  72 100  75  90]\n"
          ]
        }
      ]
    },
    {
      "cell_type": "code",
      "source": [
        "print(myArray7[:,2].shape)"
      ],
      "metadata": {
        "colab": {
          "base_uri": "https://localhost:8080/"
        },
        "id": "bOpv7VrpmRKf",
        "outputId": "f15bb8bb-f971-47c9-af60-2c6e933f95e6"
      },
      "execution_count": null,
      "outputs": [
        {
          "output_type": "stream",
          "name": "stdout",
          "text": [
            "(5,)\n"
          ]
        }
      ]
    },
    {
      "cell_type": "code",
      "source": [
        "subMatrix=myArray7[1:4,1:4]\n",
        "print(subMatrix)"
      ],
      "metadata": {
        "colab": {
          "base_uri": "https://localhost:8080/"
        },
        "id": "PSfQi2ejmnJS",
        "outputId": "99263585-bbf1-4859-d901-b9752e1d83c5"
      },
      "execution_count": null,
      "outputs": [
        {
          "output_type": "stream",
          "name": "stdout",
          "text": [
            "[[ 47  72  78]\n",
            " [  9 100  74]\n",
            " [ 19  75  70]]\n"
          ]
        }
      ]
    }
  ]
}