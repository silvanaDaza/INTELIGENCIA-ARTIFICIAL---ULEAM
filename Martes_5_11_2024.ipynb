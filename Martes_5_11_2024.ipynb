{
  "nbformat": 4,
  "nbformat_minor": 0,
  "metadata": {
    "colab": {
      "provenance": [],
      "authorship_tag": "ABX9TyPBYB0JykzS5kNoYzInEhzX",
      "include_colab_link": true
    },
    "kernelspec": {
      "name": "python3",
      "display_name": "Python 3"
    },
    "language_info": {
      "name": "python"
    }
  },
  "cells": [
    {
      "cell_type": "markdown",
      "metadata": {
        "id": "view-in-github",
        "colab_type": "text"
      },
      "source": [
        "<a href=\"https://colab.research.google.com/github/silvanaDaza/INTELIGENCIA-ARTIFICIAL---ULEAM/blob/main/Martes_5_11_2024.ipynb\" target=\"_parent\"><img src=\"https://colab.research.google.com/assets/colab-badge.svg\" alt=\"Open In Colab\"/></a>"
      ]
    },
    {
      "cell_type": "code",
      "execution_count": 2,
      "metadata": {
        "colab": {
          "base_uri": "https://localhost:8080/"
        },
        "id": "UKTilL_nmvsc",
        "outputId": "2e153c44-736e-4171-fc4d-48242464c110"
      },
      "outputs": [
        {
          "output_type": "stream",
          "name": "stdout",
          "text": [
            "(3, 4)\n"
          ]
        }
      ],
      "source": [
        "#\n",
        "import numpy as np\n",
        "martrixA=np.array([[11, 12, 13, 14], [21, 22, 23, 24],[31, 32, 33, 34]])\n",
        "print(martrixA.shape)"
      ]
    },
    {
      "cell_type": "code",
      "source": [
        "martrixA"
      ],
      "metadata": {
        "colab": {
          "base_uri": "https://localhost:8080/"
        },
        "id": "lrzkYW3vncFD",
        "outputId": "ad37534b-5cdb-4494-cb22-7d20a4342106"
      },
      "execution_count": 3,
      "outputs": [
        {
          "output_type": "execute_result",
          "data": {
            "text/plain": [
              "array([[11, 12, 13, 14],\n",
              "       [21, 22, 23, 24],\n",
              "       [31, 32, 33, 34]])"
            ]
          },
          "metadata": {},
          "execution_count": 3
        }
      ]
    },
    {
      "cell_type": "code",
      "source": [
        "print(martrixA[1:, 1:3])"
      ],
      "metadata": {
        "colab": {
          "base_uri": "https://localhost:8080/"
        },
        "id": "UWAOrnOenflb",
        "outputId": "f3246a8d-0fda-4e64-cecd-2f199f737f8b"
      },
      "execution_count": 4,
      "outputs": [
        {
          "output_type": "stream",
          "name": "stdout",
          "text": [
            "[[22 23]\n",
            " [32 33]]\n"
          ]
        }
      ]
    },
    {
      "cell_type": "code",
      "source": [
        "matrixB=np.random.randint(0,10, size=(4,3))\n",
        "print(matrixB)\n",
        "print(matrixB.shape)"
      ],
      "metadata": {
        "colab": {
          "base_uri": "https://localhost:8080/"
        },
        "id": "AhHgQtUUoneO",
        "outputId": "962d3527-775d-4c61-eca2-f0d19aa8e3f5"
      },
      "execution_count": 5,
      "outputs": [
        {
          "output_type": "stream",
          "name": "stdout",
          "text": [
            "[[7 8 2]\n",
            " [7 9 4]\n",
            " [6 3 1]\n",
            " [4 1 8]]\n",
            "(4, 3)\n"
          ]
        }
      ]
    },
    {
      "cell_type": "code",
      "source": [
        "print(matrixB)\n",
        "#"
      ],
      "metadata": {
        "colab": {
          "base_uri": "https://localhost:8080/"
        },
        "id": "QAC3VY_ooWF0",
        "outputId": "ae95c204-a232-47de-b7cf-3908d14fbfcf"
      },
      "execution_count": 9,
      "outputs": [
        {
          "output_type": "stream",
          "name": "stdout",
          "text": [
            "[[7 8 2]\n",
            " [7 9 4]\n",
            " [6 3 1]\n",
            " [4 1 8]]\n"
          ]
        }
      ]
    },
    {
      "cell_type": "code",
      "source": [
        "print(matrixB)\n",
        "col_indices=np.array([0,1,2])\n",
        "row_indices=np.array([1,2])\n",
        "\n",
        "for row, col in zip(row_indices, col_indices):\n",
        "    #print(row, \",\", col)\n",
        "    print(matrixB[row, col])"
      ],
      "metadata": {
        "colab": {
          "base_uri": "https://localhost:8080/"
        },
        "id": "rx8cPh__o5TE",
        "outputId": "83461d32-bd0d-4985-dbd5-e61e9bd40876"
      },
      "execution_count": 7,
      "outputs": [
        {
          "output_type": "stream",
          "name": "stdout",
          "text": [
            "[[7 8 2]\n",
            " [7 9 4]\n",
            " [6 3 1]\n",
            " [4 1 8]]\n",
            "7\n",
            "3\n"
          ]
        }
      ]
    },
    {
      "cell_type": "code",
      "source": [
        "mask=matrixB>7\n",
        "print(mask)"
      ],
      "metadata": {
        "colab": {
          "base_uri": "https://localhost:8080/"
        },
        "id": "4CINcxd9qBSY",
        "outputId": "8f15f12e-2dbb-4c1d-fcc6-4c788295230b"
      },
      "execution_count": 10,
      "outputs": [
        {
          "output_type": "stream",
          "name": "stdout",
          "text": [
            "[[False  True False]\n",
            " [False  True False]\n",
            " [False False False]\n",
            " [False False  True]]\n"
          ]
        }
      ]
    },
    {
      "cell_type": "code",
      "source": [
        "print(matrixB[mask])\n",
        ""
      ],
      "metadata": {
        "colab": {
          "base_uri": "https://localhost:8080/"
        },
        "id": "lfSxEXD_qN7M",
        "outputId": "50ae3a77-e015-4027-ca01-7aa3332073cd"
      },
      "execution_count": 11,
      "outputs": [
        {
          "output_type": "stream",
          "name": "stdout",
          "text": [
            "[8 9 8]\n"
          ]
        }
      ]
    },
    {
      "cell_type": "code",
      "source": [
        "print(matrixB[matrixB>7])"
      ],
      "metadata": {
        "colab": {
          "base_uri": "https://localhost:8080/"
        },
        "id": "cjzLKwtCqUlN",
        "outputId": "ab8583c5-2a34-4f82-e3f0-d51e0e48789d"
      },
      "execution_count": 12,
      "outputs": [
        {
          "output_type": "stream",
          "name": "stdout",
          "text": [
            "[8 9 8]\n"
          ]
        }
      ]
    },
    {
      "cell_type": "code",
      "source": [
        "print(matrixB)"
      ],
      "metadata": {
        "colab": {
          "base_uri": "https://localhost:8080/"
        },
        "id": "z3vpfTwjqYoU",
        "outputId": "5243d63b-7fad-4db6-e141-67adb9dffe7b"
      },
      "execution_count": 13,
      "outputs": [
        {
          "output_type": "stream",
          "name": "stdout",
          "text": [
            "[[7 8 2]\n",
            " [7 9 4]\n",
            " [6 3 1]\n",
            " [4 1 8]]\n"
          ]
        }
      ]
    },
    {
      "cell_type": "code",
      "source": [
        "matrixB[matrixB%2==0]+=100\n",
        "print(matrixB)"
      ],
      "metadata": {
        "colab": {
          "base_uri": "https://localhost:8080/"
        },
        "id": "MeEU8JmyqbzS",
        "outputId": "c560bb2d-1a97-49aa-c572-d8a345044cfe"
      },
      "execution_count": 14,
      "outputs": [
        {
          "output_type": "stream",
          "name": "stdout",
          "text": [
            "[[  7 108 102]\n",
            " [  7   9 104]\n",
            " [106   3   1]\n",
            " [104   1 108]]\n"
          ]
        }
      ]
    },
    {
      "cell_type": "code",
      "source": [
        "print(matrixB)"
      ],
      "metadata": {
        "colab": {
          "base_uri": "https://localhost:8080/"
        },
        "id": "8Ai4TvhLrkjv",
        "outputId": "9976188c-0942-43ac-a9bf-b20f10c9cc09"
      },
      "execution_count": 15,
      "outputs": [
        {
          "output_type": "stream",
          "name": "stdout",
          "text": [
            "[[  7 108 102]\n",
            " [  7   9 104]\n",
            " [106   3   1]\n",
            " [104   1 108]]\n"
          ]
        }
      ]
    },
    {
      "cell_type": "code",
      "source": [
        "matrixC =np.random.rand(2,2)"
      ],
      "metadata": {
        "id": "SHKGqQFMrn_H"
      },
      "execution_count": 18,
      "outputs": []
    },
    {
      "cell_type": "code",
      "source": [
        "filter =(matrixB>3) & (matrixB<8)\n",
        "matrixB[filter]+=100\n",
        "print(matrixB)"
      ],
      "metadata": {
        "colab": {
          "base_uri": "https://localhost:8080/"
        },
        "id": "POz7yktUtBYn",
        "outputId": "54656f95-b2af-4f99-ee7f-2ed5b3154ddc"
      },
      "execution_count": 19,
      "outputs": [
        {
          "output_type": "stream",
          "name": "stdout",
          "text": [
            "[[107 208 202]\n",
            " [107 109 204]\n",
            " [106   3   1]\n",
            " [104   1 108]]\n"
          ]
        }
      ]
    },
    {
      "cell_type": "code",
      "source": [
        "matrixA1 = np.random.randint(0,10, size=(2,2))\n",
        "matrixA2 = np.random.randint(0,10, size=(2,2))\n",
        "print(\"Matrix A1\")\n",
        "print(matrixA1)\n",
        "print(\"Matrix A2\")\n",
        "print(matrixA2)"
      ],
      "metadata": {
        "colab": {
          "base_uri": "https://localhost:8080/"
        },
        "id": "_88drcinu5OY",
        "outputId": "7b67fd7e-2213-495e-d3c0-029852ec2fe6"
      },
      "execution_count": 20,
      "outputs": [
        {
          "output_type": "stream",
          "name": "stdout",
          "text": [
            "Matrix A1\n",
            "[[2 3]\n",
            " [3 5]]\n",
            "Matrix A2\n",
            "[[9 1]\n",
            " [3 2]]\n"
          ]
        }
      ]
    },
    {
      "cell_type": "code",
      "source": [
        "print(matrixA1+matrixA2)\n",
        "print(matrixA1-matrixA2)\n",
        "print(matrixA1*matrixA2)\n",
        "print(matrixA1/matrixA2)\n",
        "print(np.sqrt(matrixA1))"
      ],
      "metadata": {
        "colab": {
          "base_uri": "https://localhost:8080/"
        },
        "id": "KfHdu-AJvaVg",
        "outputId": "ce62a383-fc2c-4313-9f29-b174a0b3d939"
      },
      "execution_count": 21,
      "outputs": [
        {
          "output_type": "stream",
          "name": "stdout",
          "text": [
            "[[11  4]\n",
            " [ 6  7]]\n",
            "[[-7  2]\n",
            " [ 0  3]]\n",
            "[[18  3]\n",
            " [ 9 10]]\n",
            "[[0.22222222 3.        ]\n",
            " [1.         2.5       ]]\n"
          ]
        }
      ]
    },
    {
      "cell_type": "code",
      "source": [
        "print(matrixA1)\n"
      ],
      "metadata": {
        "colab": {
          "base_uri": "https://localhost:8080/"
        },
        "id": "3J6oxDIlv182",
        "outputId": "8966fbb7-7fb3-43d3-d31a-5001e7ed2b46"
      },
      "execution_count": 22,
      "outputs": [
        {
          "output_type": "stream",
          "name": "stdout",
          "text": [
            "[[2 3]\n",
            " [3 5]]\n"
          ]
        }
      ]
    },
    {
      "cell_type": "code",
      "source": [
        "print(np.sqrt(matrixA1))"
      ],
      "metadata": {
        "colab": {
          "base_uri": "https://localhost:8080/"
        },
        "id": "7oAhh3fuv8MW",
        "outputId": "71c18da1-9442-4cd8-b710-8dec1a4d0970"
      },
      "execution_count": 23,
      "outputs": [
        {
          "output_type": "stream",
          "name": "stdout",
          "text": [
            "[[1.41421356 1.73205081]\n",
            " [1.73205081 2.23606798]]\n"
          ]
        }
      ]
    },
    {
      "cell_type": "code",
      "source": [
        "matrixA1 =np.random.randint(0,10, size=(2,2))\n",
        "print(matrixA1)"
      ],
      "metadata": {
        "colab": {
          "base_uri": "https://localhost:8080/"
        },
        "id": "NUZsmKlewHUd",
        "outputId": "173958b3-0194-4760-d520-90bee87c3e48"
      },
      "execution_count": 24,
      "outputs": [
        {
          "output_type": "stream",
          "name": "stdout",
          "text": [
            "[[1 1]\n",
            " [6 3]]\n"
          ]
        }
      ]
    },
    {
      "cell_type": "code",
      "source": [
        "print(np.mean(matrixA1))"
      ],
      "metadata": {
        "colab": {
          "base_uri": "https://localhost:8080/"
        },
        "id": "txW4ZIKmwYmt",
        "outputId": "ebd3e16c-7e86-487f-b03b-903d3f0a8a2f"
      },
      "execution_count": 25,
      "outputs": [
        {
          "output_type": "stream",
          "name": "stdout",
          "text": [
            "2.75\n"
          ]
        }
      ]
    },
    {
      "cell_type": "code",
      "source": [
        "print(matrixA1.mean(axis=1))"
      ],
      "metadata": {
        "colab": {
          "base_uri": "https://localhost:8080/"
        },
        "id": "81haeq2HweFz",
        "outputId": "139f5a25-58f7-46e1-8f4d-90c930b0faed"
      },
      "execution_count": 27,
      "outputs": [
        {
          "output_type": "stream",
          "name": "stdout",
          "text": [
            "[1.  4.5]\n"
          ]
        }
      ]
    },
    {
      "cell_type": "code",
      "source": [
        "print(matrixA1.mean(axis=0))"
      ],
      "metadata": {
        "colab": {
          "base_uri": "https://localhost:8080/"
        },
        "id": "Yow7nlSTwvlK",
        "outputId": "8b1e26c8-2c09-4a13-dca3-8236be67c181"
      },
      "execution_count": 28,
      "outputs": [
        {
          "output_type": "stream",
          "name": "stdout",
          "text": [
            "[3.5 2. ]\n"
          ]
        }
      ]
    },
    {
      "cell_type": "code",
      "source": [
        "print(np.std(matrixA1))"
      ],
      "metadata": {
        "colab": {
          "base_uri": "https://localhost:8080/"
        },
        "id": "fLFQba3YwypT",
        "outputId": "dff2dd96-06b0-40c6-8005-14bb3bb4739d"
      },
      "execution_count": 29,
      "outputs": [
        {
          "output_type": "stream",
          "name": "stdout",
          "text": [
            "2.0463381929681126\n"
          ]
        }
      ]
    },
    {
      "cell_type": "code",
      "source": [
        "print(np.median(matrixA1))"
      ],
      "metadata": {
        "colab": {
          "base_uri": "https://localhost:8080/"
        },
        "id": "JS6vsT1Zw5E_",
        "outputId": "2455ea54-5434-4819-9a36-70c00e807b5e"
      },
      "execution_count": 30,
      "outputs": [
        {
          "output_type": "stream",
          "name": "stdout",
          "text": [
            "2.0\n"
          ]
        }
      ]
    },
    {
      "cell_type": "code",
      "source": [
        "print(matrixA1.max())"
      ],
      "metadata": {
        "colab": {
          "base_uri": "https://localhost:8080/"
        },
        "id": "V5PdBzjGxAjI",
        "outputId": "218757ba-e5ad-4b32-fde5-01d892b6acfb"
      },
      "execution_count": 32,
      "outputs": [
        {
          "output_type": "stream",
          "name": "stdout",
          "text": [
            "6\n",
            "6\n"
          ]
        }
      ]
    },
    {
      "cell_type": "code",
      "source": [
        "print(matrixA1.sum())"
      ],
      "metadata": {
        "colab": {
          "base_uri": "https://localhost:8080/"
        },
        "id": "yva7tlV8xZ22",
        "outputId": "952215f5-8598-4525-f725-5f2f18859d79"
      },
      "execution_count": 33,
      "outputs": [
        {
          "output_type": "stream",
          "name": "stdout",
          "text": [
            "11\n"
          ]
        }
      ]
    },
    {
      "cell_type": "code",
      "source": [
        "start=np.zeros((4,2))\n",
        "print(start)"
      ],
      "metadata": {
        "colab": {
          "base_uri": "https://localhost:8080/"
        },
        "id": "mHYMwMVzx8mn",
        "outputId": "569a5b98-0c60-46c1-e135-2ed0175408f3"
      },
      "execution_count": 34,
      "outputs": [
        {
          "output_type": "stream",
          "name": "stdout",
          "text": [
            "[[0. 0.]\n",
            " [0. 0.]\n",
            " [0. 0.]\n",
            " [0. 0.]]\n"
          ]
        }
      ]
    },
    {
      "cell_type": "code",
      "source": [
        "add_rows=np.array([1,2,3])\n",
        "print(add_rows.shape)"
      ],
      "metadata": {
        "colab": {
          "base_uri": "https://localhost:8080/"
        },
        "id": "raJr_NfMyPFE",
        "outputId": "9ac0d6c2-6235-4f67-db87-f27f7e08d539"
      },
      "execution_count": 35,
      "outputs": [
        {
          "output_type": "stream",
          "name": "stdout",
          "text": [
            "(3,)\n"
          ]
        }
      ]
    },
    {
      "cell_type": "code",
      "source": [
        "print(start)"
      ],
      "metadata": {
        "colab": {
          "base_uri": "https://localhost:8080/"
        },
        "id": "KsMih5TMythF",
        "outputId": "83765509-1d8b-41ef-f6d2-87b1da1b66a2"
      },
      "execution_count": 59,
      "outputs": [
        {
          "output_type": "stream",
          "name": "stdout",
          "text": [
            "[[0. 0.]\n",
            " [0. 0.]\n",
            " [0. 0.]\n",
            " [0. 0.]]\n"
          ]
        }
      ]
    },
    {
      "cell_type": "code",
      "source": [
        "col_rows=np.array([[1,2,3,4]])"
      ],
      "metadata": {
        "id": "DBUBhukJzCY9"
      },
      "execution_count": 43,
      "outputs": []
    },
    {
      "cell_type": "code",
      "source": [
        "print(start)\n",
        "tmp=col_rows.T\n",
        "y2=start+tmp\n",
        "print(y2)"
      ],
      "metadata": {
        "colab": {
          "base_uri": "https://localhost:8080/"
        },
        "id": "WmqQ2hRVz9Ez",
        "outputId": "7d8a4947-4c92-4f04-b7f1-2c4fa880ae2d"
      },
      "execution_count": 44,
      "outputs": [
        {
          "output_type": "stream",
          "name": "stdout",
          "text": [
            "[[0. 0.]\n",
            " [0. 0.]\n",
            " [0. 0.]\n",
            " [0. 0.]]\n",
            "[[1. 1.]\n",
            " [2. 2.]\n",
            " [3. 3.]\n",
            " [4. 4.]]\n"
          ]
        }
      ]
    },
    {
      "cell_type": "code",
      "source": [
        "tmp1=np.array([[1,1],[2,2]])\n",
        "tmp2=np.array([[3,3],[4,4]])\n",
        "print(tmp1)\n",
        "print(tmp2)"
      ],
      "metadata": {
        "colab": {
          "base_uri": "https://localhost:8080/"
        },
        "id": "wNvPgqAw10Kt",
        "outputId": "73c4a114-1527-4120-d3b4-dcaf7875d534"
      },
      "execution_count": 57,
      "outputs": [
        {
          "output_type": "stream",
          "name": "stdout",
          "text": [
            "[[1 1]\n",
            " [2 2]]\n",
            "[[3 3]\n",
            " [4 4]]\n"
          ]
        }
      ]
    },
    {
      "cell_type": "code",
      "source": [
        "print(np.dot(tmp1,tmp2))"
      ],
      "metadata": {
        "colab": {
          "base_uri": "https://localhost:8080/"
        },
        "id": "5V6Sxmb916Y6",
        "outputId": "55508b10-b206-43c4-fb82-a002c0822a2e"
      },
      "execution_count": 58,
      "outputs": [
        {
          "output_type": "stream",
          "name": "stdout",
          "text": [
            "[[ 7  7]\n",
            " [14 14]]\n"
          ]
        }
      ]
    },
    {
      "cell_type": "code",
      "source": [
        "y1=np.random.randint(low=2, high=10, size=(2,2))\n",
        "y2=np.random.randint(low=2, high=10, size=(2,2))\n",
        "print(y1)\n",
        "print(y2)"
      ],
      "metadata": {
        "colab": {
          "base_uri": "https://localhost:8080/"
        },
        "id": "AcvAs41X2C2a",
        "outputId": "405892e0-1f28-48cc-da24-98cdca034b56"
      },
      "execution_count": 52,
      "outputs": [
        {
          "output_type": "stream",
          "name": "stdout",
          "text": [
            "[[6 2]\n",
            " [7 3]]\n",
            "[[5 3]\n",
            " [9 3]]\n"
          ]
        }
      ]
    },
    {
      "cell_type": "code",
      "source": [
        "np.vstack((y1,y2))"
      ],
      "metadata": {
        "colab": {
          "base_uri": "https://localhost:8080/"
        },
        "id": "DBFyhsBX2uAq",
        "outputId": "ed854be2-0b65-4a85-c42b-4b7f4f64fd0d"
      },
      "execution_count": 53,
      "outputs": [
        {
          "output_type": "execute_result",
          "data": {
            "text/plain": [
              "array([[6, 2],\n",
              "       [7, 3],\n",
              "       [5, 3],\n",
              "       [9, 3]])"
            ]
          },
          "metadata": {},
          "execution_count": 53
        }
      ]
    },
    {
      "cell_type": "code",
      "source": [
        "np.hstack((y1,y2))"
      ],
      "metadata": {
        "colab": {
          "base_uri": "https://localhost:8080/"
        },
        "id": "qHyMMVEV20pd",
        "outputId": "e94543cb-3a74-412b-9e63-8a1ac912fdc7"
      },
      "execution_count": 54,
      "outputs": [
        {
          "output_type": "execute_result",
          "data": {
            "text/plain": [
              "array([[6, 2, 5, 3],\n",
              "       [7, 3, 9, 3]])"
            ]
          },
          "metadata": {},
          "execution_count": 54
        }
      ]
    },
    {
      "cell_type": "code",
      "source": [],
      "metadata": {
        "id": "0Slgn3uU23fC"
      },
      "execution_count": null,
      "outputs": []
    }
  ]
}